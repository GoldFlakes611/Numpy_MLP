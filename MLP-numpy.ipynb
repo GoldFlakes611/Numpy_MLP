{
 "cells": [
  {
   "cell_type": "code",
   "execution_count": 12,
   "outputs": [],
   "source": [
    "from functions import *"
   ],
   "metadata": {
    "collapsed": false,
    "ExecuteTime": {
     "end_time": "2023-11-15T05:50:10.777630500Z",
     "start_time": "2023-11-15T05:50:10.735527400Z"
    }
   },
   "id": "b74bc942705045ec"
  },
  {
   "cell_type": "code",
   "execution_count": 13,
   "outputs": [],
   "source": [
    "x_train, y_train, x_test, y_test =load_data(\"mnist.npz\")\n",
    "x_train, y_train, x_test, y_test = preprocess(x_train, y_train, x_test, y_test)"
   ],
   "metadata": {
    "collapsed": false,
    "ExecuteTime": {
     "end_time": "2023-11-15T05:50:11.216143700Z",
     "start_time": "2023-11-15T05:50:10.961112100Z"
    }
   },
   "id": "60d39431b428807d"
  },
  {
   "cell_type": "code",
   "execution_count": 14,
   "outputs": [
    {
     "data": {
      "text/plain": "<matplotlib.image.AxesImage at 0x7f4b7a716ef0>"
     },
     "execution_count": 14,
     "metadata": {},
     "output_type": "execute_result"
    },
    {
     "data": {
      "text/plain": "<Figure size 640x480 with 1 Axes>",
      "image/png": "[encoded data removed]"
     },
     "metadata": {},
     "output_type": "display_data"
    }
   ],
   "source": [
    "plt.imshow(255-x_test[0],cmap=\"gray\")"
   ],
   "metadata": {
    "collapsed": false,
    "ExecuteTime": {
     "end_time": "2023-11-15T05:50:11.342742400Z",
     "start_time": "2023-11-15T05:50:11.225110600Z"
    }
   },
   "id": "a5ca89babe9021a2"
  },
  {
   "cell_type": "code",
   "execution_count": 24,
   "outputs": [
    {
     "data": {
      "text/plain": "(10000, 28, 28)"
     },
     "execution_count": 24,
     "metadata": {},
     "output_type": "execute_result"
    }
   ],
   "source": [
    "x_test.shape"
   ],
   "metadata": {
    "collapsed": false,
    "ExecuteTime": {
     "end_time": "2023-11-15T06:06:07.945816600Z",
     "start_time": "2023-11-15T06:06:07.927817100Z"
    }
   },
   "id": "3dabed0b914d0ed4"
  },
  {
   "cell_type": "code",
   "execution_count": 15,
   "outputs": [],
   "source": [
    "class NeuralNetwork():\n",
    "    def __init__(self,n_neuron=100):\n",
    "        self.w1 = 0.1*np.random.rand(784,n_neuron)\n",
    "        self.b1 = np.zeros(n_neuron)\n",
    "        self.w2 = 0.1*np.random.rand(n_neuron, 10)\n",
    "        self.b2 = np.zeros(10)\n",
    "\n",
    "    def set_params(self, w1, b1, w2, b2):\n",
    "        self.w1 = w1\n",
    "        self.b1 = b1\n",
    "        self.w2 = w2\n",
    "        self.b2 = b2\n",
    "    def params(self):\n",
    "        return self.w1, self.b1, self.w2, self.b2\n",
    "        \n",
    "    def forward(self,x):\n",
    "        x = x.reshape(x.shape[0],-1)\n",
    "        z1 = np.matmul(x,self.w1) + self.b1\n",
    "        a1 = sigmoid(z1)\n",
    "        z2 = np.matmul(a1,self.w2) + self.b2\n",
    "        a2 = softmax(z2)\n",
    "        return z1, a1, z2, a2, x,\n",
    "    \n",
    "    def grad(self,x,y):\n",
    "        output = self.forward(x)\n",
    "        x = output[4]\n",
    "        \n",
    "        dz2 = output[3] - y \n",
    "        dw2 = der_w(dz2,output[1])\n",
    "        db2 = np.mean(dz2,axis=0) \n",
    "        \n",
    "        dz1 = np.matmul(dz2, self.w2.T) * dersigmoid(output[1]) \n",
    "        dw1 = der_w(dz1,x)\n",
    "        db1 = np.mean(dz1,axis=0)\n",
    "        loss = cross_entropy(output[3],y)\n",
    "        val_loss = cross_entropy(output[3],y)\n",
    "        return dw1, db1, dw2, db2, loss\n",
    "    \n",
    "    def predict(self,x):\n",
    "        if x.ndim < 3:\n",
    "            x = x[np.newaxis,...]\n",
    "        return np.argmax(self.forward(x)[3],axis=1)\n",
    "#output[1]@dz2"
   ],
   "metadata": {
    "collapsed": false,
    "ExecuteTime": {
     "end_time": "2023-11-15T05:50:11.353742Z",
     "start_time": "2023-11-15T05:50:11.349741900Z"
    }
   },
   "id": "dcad3477988feac"
  },
  {
   "cell_type": "code",
   "execution_count": 16,
   "outputs": [],
   "source": [
    "epochs = 4\n",
    "lr = 0.819493107614262\n",
    "n_neuron = 73\n",
    "batch_size = 128"
   ],
   "metadata": {
    "collapsed": false,
    "ExecuteTime": {
     "end_time": "2023-11-15T05:50:11.372740600Z",
     "start_time": "2023-11-15T05:50:11.353742Z"
    }
   },
   "id": "957debc946440b18"
  },
  {
   "cell_type": "code",
   "execution_count": 17,
   "outputs": [],
   "source": [
    "model = NeuralNetwork(n_neuron=128)"
   ],
   "metadata": {
    "collapsed": false,
    "ExecuteTime": {
     "end_time": "2023-11-15T05:50:11.483044400Z",
     "start_time": "2023-11-15T05:50:11.362746800Z"
    }
   },
   "id": "4458a49957ef5278"
  },
  {
   "cell_type": "code",
   "execution_count": 21,
   "outputs": [
    {
     "name": "stdout",
     "output_type": "stream",
     "text": [
      "epoch: 1, loss: 0.2200675289898222, val_loss: 0.13770730056036642\n",
      "epoch: 2, loss: 0.20889274314153608, val_loss: 0.1259600221814303\n",
      "epoch: 3, loss: 0.19991899448389505, val_loss: 0.11663903919422546\n",
      "epoch: 4, loss: 0.19268056827365235, val_loss: 0.10916939361556433\n"
     ]
    }
   ],
   "source": [
    "for epoch in range(epochs):\n",
    "    for i in range(0,len(x_train),batch_size):\n",
    "        Xbatch = x_train[i:i+batch_size]\n",
    "        Ybatch = y_train[i:i+batch_size]\n",
    "        grad = model.grad(Xbatch,Ybatch)\n",
    "        w1,b1,w2,b2 = update_params(grad,model.params(),lr)\n",
    "        model.set_params(w1,b1,w2,b2)\n",
    "        val_loss = model.forward(x_test)[3]\n",
    "        val_loss = cross_entropy(val_loss, y_test)\n",
    "        loss = grad[4]\n",
    "    print(f'epoch: {epoch+1}, loss: {loss}, val_loss: {val_loss}')"
   ],
   "metadata": {
    "collapsed": false,
    "ExecuteTime": {
     "end_time": "2023-11-15T06:03:13.723996800Z",
     "start_time": "2023-11-15T05:59:58.540026500Z"
    }
   },
   "id": "b4ef00202960a6bf"
  },
  {
   "cell_type": "code",
   "execution_count": 20,
   "outputs": [
    {
     "name": "stdout",
     "output_type": "stream",
     "text": [
      "predicted: 2, actual: 2\n"
     ]
    },
    {
     "data": {
      "text/plain": "<matplotlib.image.AxesImage at 0x7f4b7a3066b0>"
     },
     "execution_count": 20,
     "metadata": {},
     "output_type": "execute_result"
    },
    {
     "data": {
      "text/plain": "<Figure size 640x480 with 1 Axes>",
      "image/png": "[encoded data removed]"
     },
     "metadata": {},
     "output_type": "display_data"
    }
   ],
   "source": [
    "i = 1011\n",
    "y_pred = model.predict(x_train[i])\n",
    "y_true = np.argmax(y_train[i])\n",
    "print(f'predicted: {int(y_pred)}, actual: {y_true}')\n",
    "plt.imshow(1-x_train[i],cmap=\"gray\")"
   ],
   "metadata": {
    "collapsed": false,
    "ExecuteTime": {
     "end_time": "2023-11-15T05:59:56.081406200Z",
     "start_time": "2023-11-15T05:59:55.859745300Z"
    }
   },
   "id": "aaeee63bb9544a40"
  },
  {
   "cell_type": "code",
   "execution_count": 9,
   "outputs": [],
   "source": [
    "y_pred = model.predict(x_train)\n",
    "y_true = np.argmax(y_train, axis=1)"
   ],
   "metadata": {
    "collapsed": false,
    "ExecuteTime": {
     "end_time": "2023-11-15T05:50:04.206290400Z",
     "start_time": "2023-11-15T05:50:03.839194Z"
    }
   },
   "id": "232c89292d27185f"
  },
  {
   "cell_type": "code",
   "execution_count": 10,
   "outputs": [
    {
     "name": "stdout",
     "output_type": "stream",
     "text": [
      "57299/60000\n"
     ]
    }
   ],
   "source": [
    "rcounter = 0\n",
    "for i in range(len(x_train)):\n",
    "    y_pred = model.predict(x_train[i])\n",
    "    y_true = np.argmax(y_train[i])\n",
    "    if int(y_pred) == int(y_true):\n",
    "        rcounter+=1\n",
    "print(f'{rcounter}/{len(x_train)}')"
   ],
   "metadata": {
    "collapsed": false,
    "ExecuteTime": {
     "end_time": "2023-11-15T05:50:10.700937200Z",
     "start_time": "2023-11-15T05:50:04.206290400Z"
    }
   },
   "id": "8bf8966d18595c3b"
  },
  {
   "cell_type": "code",
   "execution_count": 11,
   "outputs": [],
   "source": [
    "image = load_image(\"image.png\")\n",
    "result = int(model.predict(image))"
   ],
   "metadata": {
    "collapsed": false,
    "ExecuteTime": {
     "end_time": "2023-11-15T05:50:10.770627900Z",
     "start_time": "2023-11-15T05:50:10.691940300Z"
    }
   },
   "id": "6693828f6333699e"
  },
  {
   "cell_type": "code",
   "execution_count": 12,
   "outputs": [
    {
     "name": "stdout",
     "output_type": "stream",
     "text": [
      "predicted: 5\n"
     ]
    },
    {
     "data": {
      "text/plain": "<matplotlib.image.AxesImage at 0x7fcd117db610>"
     },
     "execution_count": 12,
     "metadata": {},
     "output_type": "execute_result"
    },
    {
     "data": {
      "text/plain": "<Figure size 640x480 with 1 Axes>",
      "image/png": "[encoded data removed]"
     },
     "metadata": {},
     "output_type": "display_data"
    }
   ],
   "source": [
    "print(\"predicted:\", result)\n",
    "plt.imshow((1-image),cmap=\"gray\")"
   ],
   "metadata": {
    "collapsed": false,
    "ExecuteTime": {
     "end_time": "2023-11-05T04:35:23.159760100Z",
     "start_time": "2023-11-05T04:35:22.935549300Z"
    }
   },
   "id": "86923e10439a324c"
  }
 ],
 "metadata": {
  "kernelspec": {
   "display_name": "Python 3",
   "language": "python",
   "name": "python3"
  },
  "language_info": {
   "codemirror_mode": {
    "name": "ipython",
    "version": 2
   },
   "file_extension": ".py",
   "mimetype": "text/x-python",
   "name": "python",
   "nbconvert_exporter": "python",
   "pygments_lexer": "ipython2",
   "version": "2.7.6"
  }
 },
 "nbformat": 4,
 "nbformat_minor": 5
}
